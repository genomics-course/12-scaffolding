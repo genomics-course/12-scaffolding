{
 "cells": [
  {
   "cell_type": "markdown",
   "metadata": {},
   "source": [
    "# Notebook 12.1: The Amaranthus genome\n",
    "\n",
    "### Learning objectives:\n",
    "By the end of this notebook you should:\n",
    "+ Understand the methods employed in modern high quality genome assemblies.\n",
    "+ Be able to describe how short-read, long-read, and additional scaffolding methods can be combined to assembly high quality genomes. \n",
    "+ Be able to interpet a plot of homeologous relationships among regions of the genome that share an ancient genome duplication. \n",
    "\n",
    "### Assigned reading:\n",
    "\n",
    "\n",
    "+ Lightfoot, D. J., D. E. Jarvis, T. Ramaraj, R. Lee, E. N. Jellen, and P. J. Maughan. 2017. “Single-Molecule Sequencing and Hi-C-Based Proximity-Guided Assembly of Amaranth (Amaranthus Hypochondriacus) Chromosomes Provide Insights into Genome Evolution.” BMC Biology 15 (August): 74. https://doi.org/10.1186/s12915-017-0412-4.\n",
    "\n",
    "\n",
    "+ Burton, Joshua N., Andrew Adey, Rupali P. Patwardhan, Ruolan Qiu, Jacob O. Kitzman, and Jay Shendure. 2013. “Chromosome-Scale Scaffolding of de Novo Genome Assemblies Based on Chromatin Interactions.” Nature Biotechnology 31 (12): 1119–25. https://doi.org/10.1038/nbt.2727.\n",
    "\n",
    "\n",
    "+ [See video](https://www.jove.com/video/1869/hi-c-a-method-to-study-the-three-dimensional-architecture-of-genomes) (Please watch closely minutes 16-22; but feel free to watch it all.)\n",
    "    "
   ]
  },
  {
   "cell_type": "markdown",
   "metadata": {},
   "source": [
    "### High quality genome assemblies"
   ]
  },
  {
   "cell_type": "markdown",
   "metadata": {},
   "source": [
    "<div class=\"alert alert-success\">\n",
    "    <b>[2] Question:</b> \n",
    "    Summarize the methods that Lightfoot et al. used to assemble the Amaranthus genome and which are shown in Figure 1. What technologies are involved in each of the following assemblies: SRA1, APS1, PGA1, PGA1.5, PGA2? Describe what each technology is used for in each step as well.\n",
    "</div>"
   ]
  },
  {
   "cell_type": "code",
   "execution_count": 10,
   "metadata": {},
   "outputs": [],
   "source": [
    "### answer here"
   ]
  },
  {
   "cell_type": "markdown",
   "metadata": {},
   "source": [
    "### Genome duplication and Homeologs\n",
    "Genome duplications are very common in the history of plants, but have also occurred in many other groups of organisms as well, including fish, and arthropods. In Figure 4B of Lightfoot et al. a phylogeny shows that Amaranth (2n=4x=32) and Quinoa (2n=4x=36) have both undergone genome duplications since their common ancestor with Beets (2=2x=18). "
   ]
  },
  {
   "cell_type": "markdown",
   "metadata": {},
   "source": [
    "<div class=\"alert alert-success\">\n",
    "    <b>[3] Question:</b> \n",
    "    Figure 4 of Lightfoot et al. shows *paralogous* relationships within Amaranths (4a) and *orthologous* relationships among genes in Amaranth and Beets (4b). Describe how this plot demonstrates a genome duplication in Amaranths.\n",
    "</div>"
   ]
  },
  {
   "cell_type": "code",
   "execution_count": 11,
   "metadata": {},
   "outputs": [],
   "source": [
    "## answer here"
   ]
  },
  {
   "cell_type": "markdown",
   "metadata": {},
   "source": [
    "### Genome comparisions\n",
    "The paper by Burton et al. describes the LACHESIS software and how it is used to scaffold genomes based on Hi-C information. "
   ]
  },
  {
   "cell_type": "markdown",
   "metadata": {},
   "source": [
    "<div class=\"alert alert-success\">\n",
    "    <b>[4] Question:</b> \n",
    "    Describe the dot plots in Figure 3. What is being shown on the axes and how should we interpret this information? \n",
    "</div>"
   ]
  },
  {
   "cell_type": "code",
   "execution_count": 12,
   "metadata": {},
   "outputs": [],
   "source": [
    "## answer here"
   ]
  },
  {
   "cell_type": "code",
   "execution_count": null,
   "metadata": {},
   "outputs": [],
   "source": []
  }
 ],
 "metadata": {
  "kernelspec": {
   "display_name": "Python 3",
   "language": "python",
   "name": "python3"
  },
  "language_info": {
   "codemirror_mode": {
    "name": "ipython",
    "version": 3
   },
   "file_extension": ".py",
   "mimetype": "text/x-python",
   "name": "python",
   "nbconvert_exporter": "python",
   "pygments_lexer": "ipython3",
   "version": "3.6.8"
  }
 },
 "nbformat": 4,
 "nbformat_minor": 2
}
